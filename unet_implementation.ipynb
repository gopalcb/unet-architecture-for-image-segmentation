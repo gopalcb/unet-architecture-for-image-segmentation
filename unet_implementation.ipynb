{
 "cells": [
  {
   "cell_type": "markdown",
   "id": "99478972-7b71-4f9e-a151-45e0ae963898",
   "metadata": {},
   "source": [
    "## Implementation of Unet Architecture:"
   ]
  },
  {
   "cell_type": "markdown",
   "id": "9f50ab2d-ad72-4522-864f-216cc78b5699",
   "metadata": {},
   "source": [
    "The following diagram shows the overall U-net architecture-\n",
    "\n",
    "![png](img-unet.png)"
   ]
  },
  {
   "cell_type": "markdown",
   "id": "6e6137c2-2323-4320-b51c-570f1f22502d",
   "metadata": {},
   "source": [
    "#### Import necessary libraries -"
   ]
  },
  {
   "cell_type": "code",
   "execution_count": null,
   "id": "099b05cc-c1ae-4cc0-9cd0-3ca1b53241d9",
   "metadata": {},
   "outputs": [],
   "source": [
    "import numpy as np\n",
    "from keras.models import Model\n",
    "from keras.layers import Input, concatenate, Conv2D, MaxPooling2D, Conv2DTranspose\n",
    "from tensorflow.keras.optimizers import Adam"
   ]
  },
  {
   "cell_type": "markdown",
   "id": "7a118c13-45d5-4134-9cac-11f404976305",
   "metadata": {},
   "source": [
    "#### Define learning rate - "
   ]
  },
  {
   "cell_type": "code",
   "execution_count": 3,
   "id": "95b48146-f55b-43d1-986d-873dba57a81f",
   "metadata": {},
   "outputs": [],
   "source": [
    "LEARNING_RATE = 1e-3"
   ]
  },
  {
   "cell_type": "markdown",
   "id": "8fef4d9b-f48e-45d6-adb1-6b5bcbb50531",
   "metadata": {},
   "source": [
    "#### Unet layers orchestration - "
   ]
  },
  {
   "cell_type": "code",
   "execution_count": 4,
   "id": "a6a5871c-ac72-4b47-8096-11dac48ada43",
   "metadata": {},
   "outputs": [],
   "source": [
    "def build_unet_architecture():\n",
    "    '''\n",
    "    u-net model architecture.\n",
    "    source: https://github.com/zhixuhao/unet\n",
    "    \n",
    "    returns:\n",
    "    model: keras.model\n",
    "    '''\n",
    "    # layer 1\n",
    "    # initial input shape 256*256\n",
    "    # conv 3x3, ReLU\n",
    "    # max pool 2x2\n",
    "    inputs = Input((rows, cols, 1))\n",
    "    conv1 = Conv2D(32, (3, 3), activation='relu', padding='same')(inputs)\n",
    "    conv1 = Conv2D(32, (3, 3), activation='relu', padding='same')(conv1)\n",
    "    pool1 = MaxPooling2D(pool_size=(2, 2))(conv1)\n",
    "    \n",
    "    # layer 2\n",
    "    # conv 3x3, ReLU\n",
    "    # max pool 2x2\n",
    "    conv2 = Conv2D(64, (3, 3), activation='relu', padding='same')(pool1)\n",
    "    conv2 = Conv2D(64, (3, 3), activation='relu', padding='same')(conv2)\n",
    "    pool2 = MaxPooling2D(pool_size=(2, 2))(conv2)\n",
    "    \n",
    "    # layer 3\n",
    "    # conv 3x3, ReLU\n",
    "    # max pool 2x2\n",
    "    conv3 = Conv2D(128, (3, 3), activation='relu', padding='same')(pool2)\n",
    "    conv3 = Conv2D(128, (3, 3), activation='relu', padding='same')(conv3)\n",
    "    pool3 = MaxPooling2D(pool_size=(2, 2))(conv3)\n",
    "    \n",
    "    # layer 4\n",
    "    # conv 3x3, ReLU\n",
    "    # max pool 2x2\n",
    "    conv4 = Conv2D(256, (3, 3), activation='relu', padding='same')(pool3)\n",
    "    conv4 = Conv2D(256, (3, 3), activation='relu', padding='same')(conv4)\n",
    "    pool4 = MaxPooling2D(pool_size=(2, 2))(conv4)\n",
    "    \n",
    "    # layer 5\n",
    "    # conv 3x3, ReLU\n",
    "    # copy and crop\n",
    "    conv5 = Conv2D(512, (3, 3), activation='relu', padding='same')(pool4)\n",
    "    conv5 = Conv2D(512, (3, 3), activation='relu', padding='same')(conv5)\n",
    "\n",
    "    # layer 6\n",
    "    # up-conv 2x2\n",
    "    # conv 3x3, ReLU\n",
    "    up6 = concatenate([Conv2DTranspose(256, (2, 2), strides=(2, 2), padding='same')(conv5), conv4], axis=3)\n",
    "    conv6 = Conv2D(256, (3, 3), activation='relu', padding='same')(up6)\n",
    "    conv6 = Conv2D(256, (3, 3), activation='relu', padding='same')(conv6)\n",
    "    \n",
    "    # layer 7\n",
    "    # up-conv 2x2\n",
    "    # conv 3x3, ReLU\n",
    "    up7 = concatenate([Conv2DTranspose(128, (2, 2), strides=(2, 2), padding='same')(conv6), conv3], axis=3)\n",
    "    conv7 = Conv2D(128, (3, 3), activation='relu', padding='same')(up7)\n",
    "    conv7 = Conv2D(128, (3, 3), activation='relu', padding='same')(conv7)\n",
    "    \n",
    "    # layer 8\n",
    "    # up-conv 2x2\n",
    "    # conv 3x3, ReLU\n",
    "    up8 = concatenate([Conv2DTranspose(64, (2, 2), strides=(2, 2), padding='same')(conv7), conv2], axis=3)\n",
    "    conv8 = Conv2D(64, (3, 3), activation='relu', padding='same')(up8)\n",
    "    conv8 = Conv2D(64, (3, 3), activation='relu', padding='same')(conv8)\n",
    "    \n",
    "    # layer 9\n",
    "    # up-conv 2x2\n",
    "    # conv 3x3, ReLU\n",
    "    up9 = concatenate([Conv2DTranspose(32, (2, 2), strides=(2, 2), padding='same')(conv8), conv1], axis=3)\n",
    "    conv9 = Conv2D(32, (3, 3), activation='relu', padding='same')(up9)\n",
    "    conv9 = Conv2D(32, (3, 3), activation='relu', padding='same')(conv9)\n",
    "\n",
    "    conv10 = Conv2D(1, (1, 1), activation='sigmoid')(conv9)\n",
    "\n",
    "    model = Model(inputs=[inputs], outputs=[conv10])\n",
    "\n",
    "    model.compile(optimizer=Adam(lr=LEARNING_RATE), loss=dice_coef_loss, metrics=['accuracy', dice_coef])\n",
    "\n",
    "    return model\n"
   ]
  }
 ],
 "metadata": {
  "kernelspec": {
   "display_name": "Python 3 (ipykernel)",
   "language": "python",
   "name": "python3"
  },
  "language_info": {
   "codemirror_mode": {
    "name": "ipython",
    "version": 3
   },
   "file_extension": ".py",
   "mimetype": "text/x-python",
   "name": "python",
   "nbconvert_exporter": "python",
   "pygments_lexer": "ipython3",
   "version": "3.11.2"
  }
 },
 "nbformat": 4,
 "nbformat_minor": 5
}
